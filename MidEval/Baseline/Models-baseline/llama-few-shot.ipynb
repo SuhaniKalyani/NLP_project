{
 "cells": [
  {
   "cell_type": "code",
   "execution_count": 8,
   "metadata": {
    "execution": {
     "iopub.execute_input": "2025-03-23T15:32:11.524096Z",
     "iopub.status.busy": "2025-03-23T15:32:11.523772Z",
     "iopub.status.idle": "2025-03-23T15:32:11.621607Z",
     "shell.execute_reply": "2025-03-23T15:32:11.620705Z",
     "shell.execute_reply.started": "2025-03-23T15:32:11.524074Z"
    },
    "trusted": true
   },
   "outputs": [
    {
     "name": "stderr",
     "output_type": "stream",
     "text": [
      "/usr/local/lib/python3.10/dist-packages/pandas/io/formats/format.py:1458: RuntimeWarning: invalid value encountered in greater\n",
      "  has_large_values = (abs_vals > 1e6).any()\n",
      "/usr/local/lib/python3.10/dist-packages/pandas/io/formats/format.py:1459: RuntimeWarning: invalid value encountered in less\n",
      "  has_small_values = ((abs_vals < 10 ** (-self.digits)) & (abs_vals > 0)).any()\n",
      "/usr/local/lib/python3.10/dist-packages/pandas/io/formats/format.py:1459: RuntimeWarning: invalid value encountered in greater\n",
      "  has_small_values = ((abs_vals < 10 ** (-self.digits)) & (abs_vals > 0)).any()\n",
      "/usr/local/lib/python3.10/dist-packages/pandas/io/formats/format.py:1458: RuntimeWarning: invalid value encountered in greater\n",
      "  has_large_values = (abs_vals > 1e6).any()\n",
      "/usr/local/lib/python3.10/dist-packages/pandas/io/formats/format.py:1459: RuntimeWarning: invalid value encountered in less\n",
      "  has_small_values = ((abs_vals < 10 ** (-self.digits)) & (abs_vals > 0)).any()\n",
      "/usr/local/lib/python3.10/dist-packages/pandas/io/formats/format.py:1459: RuntimeWarning: invalid value encountered in greater\n",
      "  has_small_values = ((abs_vals < 10 ** (-self.digits)) & (abs_vals > 0)).any()\n"
     ]
    },
    {
     "data": {
      "text/html": [
       "<div>\n",
       "<style scoped>\n",
       "    .dataframe tbody tr th:only-of-type {\n",
       "        vertical-align: middle;\n",
       "    }\n",
       "\n",
       "    .dataframe tbody tr th {\n",
       "        vertical-align: top;\n",
       "    }\n",
       "\n",
       "    .dataframe thead th {\n",
       "        text-align: right;\n",
       "    }\n",
       "</style>\n",
       "<table border=\"1\" class=\"dataframe\">\n",
       "  <thead>\n",
       "    <tr style=\"text-align: right;\">\n",
       "      <th></th>\n",
       "      <th>index</th>\n",
       "      <th>hatespeech</th>\n",
       "      <th>csType</th>\n",
       "      <th>counterspeech</th>\n",
       "      <th>Suggest</th>\n",
       "      <th>Relevance</th>\n",
       "      <th>Aggressive</th>\n",
       "      <th>Complexity</th>\n",
       "      <th>Comments</th>\n",
       "      <th>source</th>\n",
       "      <th>...</th>\n",
       "      <th>hatespeechTarget</th>\n",
       "      <th>powerDynamics</th>\n",
       "      <th>prompt_offensiveness</th>\n",
       "      <th>prompt_target_group</th>\n",
       "      <th>prompt_speaker_intent</th>\n",
       "      <th>prompt_power_dynamics</th>\n",
       "      <th>prompt_implication</th>\n",
       "      <th>prompt_emotional_reaction</th>\n",
       "      <th>prompt_cognitive_reaction</th>\n",
       "      <th>prompt_cs_generation</th>\n",
       "    </tr>\n",
       "  </thead>\n",
       "  <tbody>\n",
       "    <tr>\n",
       "      <th>0</th>\n",
       "      <td>20</td>\n",
       "      <td>Women are basically childlike, they remain thi...</td>\n",
       "      <td>Informative</td>\n",
       "      <td>The characteristics you are referring to are a...</td>\n",
       "      <td>3.0</td>\n",
       "      <td>4.0</td>\n",
       "      <td>2.0</td>\n",
       "      <td>3.0</td>\n",
       "      <td>NaN</td>\n",
       "      <td>Human</td>\n",
       "      <td>...</td>\n",
       "      <td>women</td>\n",
       "      <td>gender</td>\n",
       "      <td>Analyze the offensiveness of the statement: Wo...</td>\n",
       "      <td>Identify the group of people that the speaker ...</td>\n",
       "      <td>Analyze the speaker's intention behind writing...</td>\n",
       "      <td>Explain the underlying power dynamics between ...</td>\n",
       "      <td>Explain the implied meaning underlying the off...</td>\n",
       "      <td>Describe how the target group might feel emoti...</td>\n",
       "      <td>Describe how the target group might react cogn...</td>\n",
       "      <td>Analyze the different aspects such as offensiv...</td>\n",
       "    </tr>\n",
       "    <tr>\n",
       "      <th>1</th>\n",
       "      <td>22</td>\n",
       "      <td>Women are basically childlike, they remain thi...</td>\n",
       "      <td>Denouncing</td>\n",
       "      <td>Nobody apart from people who spread misinforma...</td>\n",
       "      <td>2.0</td>\n",
       "      <td>3.0</td>\n",
       "      <td>3.0</td>\n",
       "      <td>2.0</td>\n",
       "      <td>NaN</td>\n",
       "      <td>Human</td>\n",
       "      <td>...</td>\n",
       "      <td>women</td>\n",
       "      <td>gender</td>\n",
       "      <td>Analyze the offensiveness of the statement: Wo...</td>\n",
       "      <td>Identify the group of people that the speaker ...</td>\n",
       "      <td>Analyze the speaker's intention behind writing...</td>\n",
       "      <td>Explain the underlying power dynamics between ...</td>\n",
       "      <td>Explain the implied meaning underlying the off...</td>\n",
       "      <td>Describe how the target group might feel emoti...</td>\n",
       "      <td>Describe how the target group might react cogn...</td>\n",
       "      <td>Analyze the different aspects such as offensiv...</td>\n",
       "    </tr>\n",
       "    <tr>\n",
       "      <th>2</th>\n",
       "      <td>23</td>\n",
       "      <td>Women are basically childlike, they remain thi...</td>\n",
       "      <td>Positive</td>\n",
       "      <td>It is a question of survival and happiness to ...</td>\n",
       "      <td>2.0</td>\n",
       "      <td>2.0</td>\n",
       "      <td>2.0</td>\n",
       "      <td>2.0</td>\n",
       "      <td>NaN</td>\n",
       "      <td>Human</td>\n",
       "      <td>...</td>\n",
       "      <td>women</td>\n",
       "      <td>gender</td>\n",
       "      <td>Analyze the offensiveness of the statement: Wo...</td>\n",
       "      <td>Identify the group of people that the speaker ...</td>\n",
       "      <td>Analyze the speaker's intention behind writing...</td>\n",
       "      <td>Explain the underlying power dynamics between ...</td>\n",
       "      <td>Explain the implied meaning underlying the off...</td>\n",
       "      <td>Describe how the target group might feel emoti...</td>\n",
       "      <td>Describe how the target group might react cogn...</td>\n",
       "      <td>Analyze the different aspects such as offensiv...</td>\n",
       "    </tr>\n",
       "    <tr>\n",
       "      <th>3</th>\n",
       "      <td>48</td>\n",
       "      <td>Minorities vote to strip wealth and power from...</td>\n",
       "      <td>Informative</td>\n",
       "      <td>This is incorrect. jews could never be able to...</td>\n",
       "      <td>3.0</td>\n",
       "      <td>4.0</td>\n",
       "      <td>3.0</td>\n",
       "      <td>3.0</td>\n",
       "      <td>NaN</td>\n",
       "      <td>Human</td>\n",
       "      <td>...</td>\n",
       "      <td>jews</td>\n",
       "      <td>religion</td>\n",
       "      <td>Analyze the offensiveness of the statement: Mi...</td>\n",
       "      <td>Identify the group of people that the speaker ...</td>\n",
       "      <td>Analyze the speaker's intention behind writing...</td>\n",
       "      <td>Explain the underlying power dynamics between ...</td>\n",
       "      <td>Explain the implied meaning underlying the off...</td>\n",
       "      <td>Describe how the target group might feel emoti...</td>\n",
       "      <td>Describe how the target group might react cogn...</td>\n",
       "      <td>Analyze the different aspects such as offensiv...</td>\n",
       "    </tr>\n",
       "    <tr>\n",
       "      <th>4</th>\n",
       "      <td>49</td>\n",
       "      <td>Minorities vote to strip wealth and power from...</td>\n",
       "      <td>Questioning</td>\n",
       "      <td>Where is your evidence?</td>\n",
       "      <td>1.0</td>\n",
       "      <td>1.0</td>\n",
       "      <td>3.0</td>\n",
       "      <td>1.0</td>\n",
       "      <td>NaN</td>\n",
       "      <td>Human</td>\n",
       "      <td>...</td>\n",
       "      <td>jews</td>\n",
       "      <td>religion</td>\n",
       "      <td>Analyze the offensiveness of the statement: Mi...</td>\n",
       "      <td>Identify the group of people that the speaker ...</td>\n",
       "      <td>Analyze the speaker's intention behind writing...</td>\n",
       "      <td>Explain the underlying power dynamics between ...</td>\n",
       "      <td>Explain the implied meaning underlying the off...</td>\n",
       "      <td>Describe how the target group might feel emoti...</td>\n",
       "      <td>Describe how the target group might react cogn...</td>\n",
       "      <td>Analyze the different aspects such as offensiv...</td>\n",
       "    </tr>\n",
       "  </tbody>\n",
       "</table>\n",
       "<p>5 rows × 32 columns</p>\n",
       "</div>"
      ],
      "text/plain": [
       "   index                                         hatespeech       csType  \\\n",
       "0     20  Women are basically childlike, they remain thi...  Informative   \n",
       "1     22  Women are basically childlike, they remain thi...   Denouncing   \n",
       "2     23  Women are basically childlike, they remain thi...     Positive   \n",
       "3     48  Minorities vote to strip wealth and power from...  Informative   \n",
       "4     49  Minorities vote to strip wealth and power from...  Questioning   \n",
       "\n",
       "                                       counterspeech  Suggest  Relevance  \\\n",
       "0  The characteristics you are referring to are a...      3.0        4.0   \n",
       "1  Nobody apart from people who spread misinforma...      2.0        3.0   \n",
       "2  It is a question of survival and happiness to ...      2.0        2.0   \n",
       "3  This is incorrect. jews could never be able to...      3.0        4.0   \n",
       "4                            Where is your evidence?      1.0        1.0   \n",
       "\n",
       "   Aggressive  Complexity  Comments source  ... hatespeechTarget  \\\n",
       "0         2.0         3.0       NaN  Human  ...            women   \n",
       "1         3.0         2.0       NaN  Human  ...            women   \n",
       "2         2.0         2.0       NaN  Human  ...            women   \n",
       "3         3.0         3.0       NaN  Human  ...             jews   \n",
       "4         3.0         1.0       NaN  Human  ...             jews   \n",
       "\n",
       "  powerDynamics                               prompt_offensiveness  \\\n",
       "0        gender  Analyze the offensiveness of the statement: Wo...   \n",
       "1        gender  Analyze the offensiveness of the statement: Wo...   \n",
       "2        gender  Analyze the offensiveness of the statement: Wo...   \n",
       "3      religion  Analyze the offensiveness of the statement: Mi...   \n",
       "4      religion  Analyze the offensiveness of the statement: Mi...   \n",
       "\n",
       "                                 prompt_target_group  \\\n",
       "0  Identify the group of people that the speaker ...   \n",
       "1  Identify the group of people that the speaker ...   \n",
       "2  Identify the group of people that the speaker ...   \n",
       "3  Identify the group of people that the speaker ...   \n",
       "4  Identify the group of people that the speaker ...   \n",
       "\n",
       "                               prompt_speaker_intent  \\\n",
       "0  Analyze the speaker's intention behind writing...   \n",
       "1  Analyze the speaker's intention behind writing...   \n",
       "2  Analyze the speaker's intention behind writing...   \n",
       "3  Analyze the speaker's intention behind writing...   \n",
       "4  Analyze the speaker's intention behind writing...   \n",
       "\n",
       "                               prompt_power_dynamics  \\\n",
       "0  Explain the underlying power dynamics between ...   \n",
       "1  Explain the underlying power dynamics between ...   \n",
       "2  Explain the underlying power dynamics between ...   \n",
       "3  Explain the underlying power dynamics between ...   \n",
       "4  Explain the underlying power dynamics between ...   \n",
       "\n",
       "                                  prompt_implication  \\\n",
       "0  Explain the implied meaning underlying the off...   \n",
       "1  Explain the implied meaning underlying the off...   \n",
       "2  Explain the implied meaning underlying the off...   \n",
       "3  Explain the implied meaning underlying the off...   \n",
       "4  Explain the implied meaning underlying the off...   \n",
       "\n",
       "                           prompt_emotional_reaction  \\\n",
       "0  Describe how the target group might feel emoti...   \n",
       "1  Describe how the target group might feel emoti...   \n",
       "2  Describe how the target group might feel emoti...   \n",
       "3  Describe how the target group might feel emoti...   \n",
       "4  Describe how the target group might feel emoti...   \n",
       "\n",
       "                           prompt_cognitive_reaction  \\\n",
       "0  Describe how the target group might react cogn...   \n",
       "1  Describe how the target group might react cogn...   \n",
       "2  Describe how the target group might react cogn...   \n",
       "3  Describe how the target group might react cogn...   \n",
       "4  Describe how the target group might react cogn...   \n",
       "\n",
       "                                prompt_cs_generation  \n",
       "0  Analyze the different aspects such as offensiv...  \n",
       "1  Analyze the different aspects such as offensiv...  \n",
       "2  Analyze the different aspects such as offensiv...  \n",
       "3  Analyze the different aspects such as offensiv...  \n",
       "4  Analyze the different aspects such as offensiv...  \n",
       "\n",
       "[5 rows x 32 columns]"
      ]
     },
     "execution_count": 8,
     "metadata": {},
     "output_type": "execute_result"
    }
   ],
   "source": [
    "import pandas as pd\n",
    "import torch\n",
    "from tqdm import tqdm  # For progress tracking\n",
    "from transformers import AutoTokenizer, AutoModelForSeq2SeqLM, AutoModelForCausalLM\n",
    "\n",
    "\n",
    "file_path = \"/kaggle/input/intentconan-test/test.csv\"\n",
    "df = pd.read_csv(file_path)\n",
    "df.head()"
   ]
  },
  {
   "cell_type": "code",
   "execution_count": 9,
   "metadata": {
    "execution": {
     "iopub.execute_input": "2025-03-23T15:32:15.851624Z",
     "iopub.status.busy": "2025-03-23T15:32:15.851262Z",
     "iopub.status.idle": "2025-03-23T15:32:15.856729Z",
     "shell.execute_reply": "2025-03-23T15:32:15.855725Z",
     "shell.execute_reply.started": "2025-03-23T15:32:15.851595Z"
    },
    "trusted": true
   },
   "outputs": [
    {
     "name": "stdout",
     "output_type": "stream",
     "text": [
      "Using device: cuda\n"
     ]
    }
   ],
   "source": [
    "device = torch.device(\"cuda\" if torch.cuda.is_available() else \"cpu\")\n",
    "print( \"Using device:\", device)\n"
   ]
  },
  {
   "cell_type": "code",
   "execution_count": 10,
   "metadata": {
    "execution": {
     "iopub.execute_input": "2025-03-23T15:32:21.053349Z",
     "iopub.status.busy": "2025-03-23T15:32:21.053028Z",
     "iopub.status.idle": "2025-03-23T15:32:24.413820Z",
     "shell.execute_reply": "2025-03-23T15:32:24.412877Z",
     "shell.execute_reply.started": "2025-03-23T15:32:21.053326Z"
    },
    "trusted": true
   },
   "outputs": [
    {
     "name": "stdout",
     "output_type": "stream",
     "text": [
      "Requirement already satisfied: together in /usr/local/lib/python3.10/dist-packages (1.4.6)\n",
      "Requirement already satisfied: aiohttp<4.0.0,>=3.9.3 in /usr/local/lib/python3.10/dist-packages (from together) (3.11.12)\n",
      "Requirement already satisfied: click<9.0.0,>=8.1.7 in /usr/local/lib/python3.10/dist-packages (from together) (8.1.7)\n",
      "Requirement already satisfied: eval-type-backport<0.3.0,>=0.1.3 in /usr/local/lib/python3.10/dist-packages (from together) (0.2.0)\n",
      "Requirement already satisfied: filelock<4.0.0,>=3.13.1 in /usr/local/lib/python3.10/dist-packages (from together) (3.17.0)\n",
      "Requirement already satisfied: numpy>=1.23.5 in /usr/local/lib/python3.10/dist-packages (from together) (1.26.4)\n",
      "Requirement already satisfied: pillow<12.0.0,>=11.1.0 in /usr/local/lib/python3.10/dist-packages (from together) (11.1.0)\n",
      "Requirement already satisfied: pyarrow>=10.0.1 in /usr/local/lib/python3.10/dist-packages (from together) (19.0.1)\n",
      "Requirement already satisfied: pydantic<3.0.0,>=2.6.3 in /usr/local/lib/python3.10/dist-packages (from together) (2.11.0a2)\n",
      "Requirement already satisfied: requests<3.0.0,>=2.31.0 in /usr/local/lib/python3.10/dist-packages (from together) (2.32.3)\n",
      "Requirement already satisfied: rich<14.0.0,>=13.8.1 in /usr/local/lib/python3.10/dist-packages (from together) (13.9.4)\n",
      "Requirement already satisfied: tabulate<0.10.0,>=0.9.0 in /usr/local/lib/python3.10/dist-packages (from together) (0.9.0)\n",
      "Requirement already satisfied: tqdm<5.0.0,>=4.66.2 in /usr/local/lib/python3.10/dist-packages (from together) (4.67.1)\n",
      "Requirement already satisfied: typer<0.16,>=0.9 in /usr/local/lib/python3.10/dist-packages (from together) (0.15.1)\n",
      "Requirement already satisfied: aiohappyeyeballs>=2.3.0 in /usr/local/lib/python3.10/dist-packages (from aiohttp<4.0.0,>=3.9.3->together) (2.4.6)\n",
      "Requirement already satisfied: aiosignal>=1.1.2 in /usr/local/lib/python3.10/dist-packages (from aiohttp<4.0.0,>=3.9.3->together) (1.3.2)\n",
      "Requirement already satisfied: async-timeout<6.0,>=4.0 in /usr/local/lib/python3.10/dist-packages (from aiohttp<4.0.0,>=3.9.3->together) (5.0.1)\n",
      "Requirement already satisfied: attrs>=17.3.0 in /usr/local/lib/python3.10/dist-packages (from aiohttp<4.0.0,>=3.9.3->together) (25.1.0)\n",
      "Requirement already satisfied: frozenlist>=1.1.1 in /usr/local/lib/python3.10/dist-packages (from aiohttp<4.0.0,>=3.9.3->together) (1.5.0)\n",
      "Requirement already satisfied: multidict<7.0,>=4.5 in /usr/local/lib/python3.10/dist-packages (from aiohttp<4.0.0,>=3.9.3->together) (6.1.0)\n",
      "Requirement already satisfied: propcache>=0.2.0 in /usr/local/lib/python3.10/dist-packages (from aiohttp<4.0.0,>=3.9.3->together) (0.2.1)\n",
      "Requirement already satisfied: yarl<2.0,>=1.17.0 in /usr/local/lib/python3.10/dist-packages (from aiohttp<4.0.0,>=3.9.3->together) (1.18.3)\n",
      "Requirement already satisfied: mkl_fft in /usr/local/lib/python3.10/dist-packages (from numpy>=1.23.5->together) (1.3.8)\n",
      "Requirement already satisfied: mkl_random in /usr/local/lib/python3.10/dist-packages (from numpy>=1.23.5->together) (1.2.4)\n",
      "Requirement already satisfied: mkl_umath in /usr/local/lib/python3.10/dist-packages (from numpy>=1.23.5->together) (0.1.1)\n",
      "Requirement already satisfied: mkl in /usr/local/lib/python3.10/dist-packages (from numpy>=1.23.5->together) (2025.0.1)\n",
      "Requirement already satisfied: tbb4py in /usr/local/lib/python3.10/dist-packages (from numpy>=1.23.5->together) (2022.0.0)\n",
      "Requirement already satisfied: mkl-service in /usr/local/lib/python3.10/dist-packages (from numpy>=1.23.5->together) (2.4.1)\n",
      "Requirement already satisfied: annotated-types>=0.6.0 in /usr/local/lib/python3.10/dist-packages (from pydantic<3.0.0,>=2.6.3->together) (0.7.0)\n",
      "Requirement already satisfied: pydantic-core==2.29.0 in /usr/local/lib/python3.10/dist-packages (from pydantic<3.0.0,>=2.6.3->together) (2.29.0)\n",
      "Requirement already satisfied: typing-extensions>=4.12.2 in /usr/local/lib/python3.10/dist-packages (from pydantic<3.0.0,>=2.6.3->together) (4.12.2)\n",
      "Requirement already satisfied: charset-normalizer<4,>=2 in /usr/local/lib/python3.10/dist-packages (from requests<3.0.0,>=2.31.0->together) (3.4.1)\n",
      "Requirement already satisfied: idna<4,>=2.5 in /usr/local/lib/python3.10/dist-packages (from requests<3.0.0,>=2.31.0->together) (3.10)\n",
      "Requirement already satisfied: urllib3<3,>=1.21.1 in /usr/local/lib/python3.10/dist-packages (from requests<3.0.0,>=2.31.0->together) (2.3.0)\n",
      "Requirement already satisfied: certifi>=2017.4.17 in /usr/local/lib/python3.10/dist-packages (from requests<3.0.0,>=2.31.0->together) (2025.1.31)\n",
      "Requirement already satisfied: markdown-it-py>=2.2.0 in /usr/local/lib/python3.10/dist-packages (from rich<14.0.0,>=13.8.1->together) (3.0.0)\n",
      "Requirement already satisfied: pygments<3.0.0,>=2.13.0 in /usr/local/lib/python3.10/dist-packages (from rich<14.0.0,>=13.8.1->together) (2.19.1)\n",
      "Requirement already satisfied: shellingham>=1.3.0 in /usr/local/lib/python3.10/dist-packages (from typer<0.16,>=0.9->together) (1.5.4)\n",
      "Requirement already satisfied: mdurl~=0.1 in /usr/local/lib/python3.10/dist-packages (from markdown-it-py>=2.2.0->rich<14.0.0,>=13.8.1->together) (0.1.2)\n",
      "Requirement already satisfied: intel-openmp>=2024 in /usr/local/lib/python3.10/dist-packages (from mkl->numpy>=1.23.5->together) (2024.2.0)\n",
      "Requirement already satisfied: tbb==2022.* in /usr/local/lib/python3.10/dist-packages (from mkl->numpy>=1.23.5->together) (2022.0.0)\n",
      "Requirement already satisfied: tcmlib==1.* in /usr/local/lib/python3.10/dist-packages (from tbb==2022.*->mkl->numpy>=1.23.5->together) (1.2.0)\n",
      "Requirement already satisfied: intel-cmplr-lib-rt in /usr/local/lib/python3.10/dist-packages (from mkl_umath->numpy>=1.23.5->together) (2024.2.0)\n",
      "Requirement already satisfied: intel-cmplr-lib-ur==2024.2.0 in /usr/local/lib/python3.10/dist-packages (from intel-openmp>=2024->mkl->numpy>=1.23.5->together) (2024.2.0)\n",
      "Note: you may need to restart the kernel to use updated packages.\n"
     ]
    }
   ],
   "source": [
    "%pip install together "
   ]
  },
  {
   "cell_type": "code",
   "execution_count": null,
   "metadata": {
    "execution": {
     "iopub.execute_input": "2025-03-23T15:33:11.088887Z",
     "iopub.status.busy": "2025-03-23T15:33:11.088512Z",
     "iopub.status.idle": "2025-03-23T22:02:31.678501Z",
     "shell.execute_reply": "2025-03-23T22:02:31.677395Z",
     "shell.execute_reply.started": "2025-03-23T15:33:11.088863Z"
    },
    "trusted": true
   },
   "outputs": [
    {
     "name": "stdout",
     "output_type": "stream",
     "text": [
      "\n",
      "Generating counterspeech using TogetherAI LLaMA 3.3 70B with few-shot examples...\n"
     ]
    },
    {
     "name": "stderr",
     "output_type": "stream",
     "text": [
      "Processing Hate Speech:   0%|          | 1/2971 [00:03<3:06:50,  3.77s/it]"
     ]
    },
    {
     "name": "stdout",
     "output_type": "stream",
     "text": [
      "Progress saved at row 0...\n"
     ]
    },
    {
     "name": "stderr",
     "output_type": "stream",
     "text": [
      "Processing Hate Speech:   3%|▎         | 101/2971 [13:20<5:41:02,  7.13s/it]"
     ]
    },
    {
     "name": "stdout",
     "output_type": "stream",
     "text": [
      "Progress saved at row 100...\n"
     ]
    },
    {
     "name": "stderr",
     "output_type": "stream",
     "text": [
      "Processing Hate Speech:   7%|▋         | 201/2971 [26:27<6:13:45,  8.10s/it]"
     ]
    },
    {
     "name": "stdout",
     "output_type": "stream",
     "text": [
      "Progress saved at row 200...\n"
     ]
    },
    {
     "name": "stderr",
     "output_type": "stream",
     "text": [
      "Processing Hate Speech:  10%|█         | 301/2971 [38:02<4:53:23,  6.59s/it]"
     ]
    },
    {
     "name": "stdout",
     "output_type": "stream",
     "text": [
      "Progress saved at row 300...\n"
     ]
    },
    {
     "name": "stderr",
     "output_type": "stream",
     "text": [
      "Processing Hate Speech:  13%|█▎        | 401/2971 [50:48<4:12:00,  5.88s/it]"
     ]
    },
    {
     "name": "stdout",
     "output_type": "stream",
     "text": [
      "Progress saved at row 400...\n"
     ]
    },
    {
     "name": "stderr",
     "output_type": "stream",
     "text": [
      "Processing Hate Speech:  17%|█▋        | 501/2971 [1:03:36<5:07:32,  7.47s/it]"
     ]
    },
    {
     "name": "stdout",
     "output_type": "stream",
     "text": [
      "Progress saved at row 500...\n"
     ]
    },
    {
     "name": "stderr",
     "output_type": "stream",
     "text": [
      "Processing Hate Speech:  20%|██        | 601/2971 [1:16:10<3:47:30,  5.76s/it]"
     ]
    },
    {
     "name": "stdout",
     "output_type": "stream",
     "text": [
      "Progress saved at row 600...\n"
     ]
    },
    {
     "name": "stderr",
     "output_type": "stream",
     "text": [
      "Processing Hate Speech:  24%|██▎       | 701/2971 [1:30:34<6:10:44,  9.80s/it]"
     ]
    },
    {
     "name": "stdout",
     "output_type": "stream",
     "text": [
      "Progress saved at row 700...\n"
     ]
    },
    {
     "name": "stderr",
     "output_type": "stream",
     "text": [
      "Processing Hate Speech:  24%|██▎       | 702/2971 [1:30:59<9:00:04, 14.28s/it]"
     ]
    },
    {
     "name": "stdout",
     "output_type": "stream",
     "text": [
      "Error with TogetherAI API: Error code: 429 - {\"message\": \"You have reached the rate limit specific to this model meta-llama/Llama-3.3-70B-Instruct-Turbo-Free. The maximum rate limit for this model is 6.0 queries per minute. This limit differs from the general rate limits published at Together AI rate limits documentation (https://docs.together.ai/docs/rate-limits). For inquiries about increasing your model-specific rate limit, please contact our sales team (https://www.together.ai/forms/contact-sales)\", \"type_\": \"model_rate_limit\"}\n"
     ]
    },
    {
     "name": "stderr",
     "output_type": "stream",
     "text": [
      "Processing Hate Speech:  27%|██▋       | 801/2971 [1:44:58<5:26:09,  9.02s/it]"
     ]
    },
    {
     "name": "stdout",
     "output_type": "stream",
     "text": [
      "Progress saved at row 800...\n"
     ]
    },
    {
     "name": "stderr",
     "output_type": "stream",
     "text": [
      "Processing Hate Speech:  28%|██▊       | 833/2971 [1:50:18<7:18:56, 12.32s/it]"
     ]
    },
    {
     "name": "stdout",
     "output_type": "stream",
     "text": [
      "Error with TogetherAI API: Error code: 503 - The server is overloaded or not ready yet.\n"
     ]
    },
    {
     "name": "stderr",
     "output_type": "stream",
     "text": [
      "Processing Hate Speech:  30%|███       | 901/2971 [1:59:12<6:11:03, 10.76s/it]"
     ]
    },
    {
     "name": "stdout",
     "output_type": "stream",
     "text": [
      "Progress saved at row 900...\n"
     ]
    },
    {
     "name": "stderr",
     "output_type": "stream",
     "text": [
      "Processing Hate Speech:  34%|███▎      | 1001/2971 [2:12:20<3:51:59,  7.07s/it]"
     ]
    },
    {
     "name": "stdout",
     "output_type": "stream",
     "text": [
      "Progress saved at row 1000...\n"
     ]
    },
    {
     "name": "stderr",
     "output_type": "stream",
     "text": [
      "Processing Hate Speech:  37%|███▋      | 1101/2971 [2:25:32<3:47:52,  7.31s/it]"
     ]
    },
    {
     "name": "stdout",
     "output_type": "stream",
     "text": [
      "Progress saved at row 1100...\n"
     ]
    },
    {
     "name": "stderr",
     "output_type": "stream",
     "text": [
      "Processing Hate Speech:  40%|████      | 1201/2971 [2:38:48<5:27:06, 11.09s/it]"
     ]
    },
    {
     "name": "stdout",
     "output_type": "stream",
     "text": [
      "Progress saved at row 1200...\n"
     ]
    },
    {
     "name": "stderr",
     "output_type": "stream",
     "text": [
      "Processing Hate Speech:  44%|████▍     | 1301/2971 [2:54:44<3:10:17,  6.84s/it]"
     ]
    },
    {
     "name": "stdout",
     "output_type": "stream",
     "text": [
      "Progress saved at row 1300...\n"
     ]
    },
    {
     "name": "stderr",
     "output_type": "stream",
     "text": [
      "Processing Hate Speech:  47%|████▋     | 1401/2971 [3:07:11<3:07:45,  7.18s/it]"
     ]
    },
    {
     "name": "stdout",
     "output_type": "stream",
     "text": [
      "Progress saved at row 1400...\n"
     ]
    },
    {
     "name": "stderr",
     "output_type": "stream",
     "text": [
      "Processing Hate Speech:  51%|█████     | 1501/2971 [3:19:31<2:20:17,  5.73s/it]"
     ]
    },
    {
     "name": "stdout",
     "output_type": "stream",
     "text": [
      "Progress saved at row 1500...\n"
     ]
    },
    {
     "name": "stderr",
     "output_type": "stream",
     "text": [
      "Processing Hate Speech:  54%|█████▍    | 1601/2971 [3:31:17<1:55:34,  5.06s/it]"
     ]
    },
    {
     "name": "stdout",
     "output_type": "stream",
     "text": [
      "Progress saved at row 1600...\n"
     ]
    },
    {
     "name": "stderr",
     "output_type": "stream",
     "text": [
      "Processing Hate Speech:  57%|█████▋    | 1701/2971 [3:43:27<2:17:23,  6.49s/it]"
     ]
    },
    {
     "name": "stdout",
     "output_type": "stream",
     "text": [
      "Progress saved at row 1700...\n"
     ]
    },
    {
     "name": "stderr",
     "output_type": "stream",
     "text": [
      "Processing Hate Speech:  61%|██████    | 1801/2971 [3:56:08<2:14:41,  6.91s/it]"
     ]
    },
    {
     "name": "stdout",
     "output_type": "stream",
     "text": [
      "Progress saved at row 1800...\n"
     ]
    },
    {
     "name": "stderr",
     "output_type": "stream",
     "text": [
      "Processing Hate Speech:  64%|██████▍   | 1901/2971 [4:09:15<2:42:42,  9.12s/it]"
     ]
    },
    {
     "name": "stdout",
     "output_type": "stream",
     "text": [
      "Progress saved at row 1900...\n"
     ]
    },
    {
     "name": "stderr",
     "output_type": "stream",
     "text": [
      "Processing Hate Speech:  67%|██████▋   | 2001/2971 [4:21:45<1:32:13,  5.70s/it]"
     ]
    },
    {
     "name": "stdout",
     "output_type": "stream",
     "text": [
      "Progress saved at row 2000...\n"
     ]
    },
    {
     "name": "stderr",
     "output_type": "stream",
     "text": [
      "Processing Hate Speech:  71%|███████   | 2101/2971 [4:35:12<1:14:10,  5.12s/it]"
     ]
    },
    {
     "name": "stdout",
     "output_type": "stream",
     "text": [
      "Progress saved at row 2100...\n"
     ]
    },
    {
     "name": "stderr",
     "output_type": "stream",
     "text": [
      "Processing Hate Speech:  74%|███████▍  | 2201/2971 [4:47:59<2:09:15, 10.07s/it]"
     ]
    },
    {
     "name": "stdout",
     "output_type": "stream",
     "text": [
      "Progress saved at row 2200...\n"
     ]
    },
    {
     "name": "stderr",
     "output_type": "stream",
     "text": [
      "Processing Hate Speech:  77%|███████▋  | 2301/2971 [5:00:30<1:07:53,  6.08s/it]"
     ]
    },
    {
     "name": "stdout",
     "output_type": "stream",
     "text": [
      "Progress saved at row 2300...\n"
     ]
    },
    {
     "name": "stderr",
     "output_type": "stream",
     "text": [
      "Processing Hate Speech:  81%|████████  | 2401/2971 [5:13:37<1:02:05,  6.54s/it]"
     ]
    },
    {
     "name": "stdout",
     "output_type": "stream",
     "text": [
      "Progress saved at row 2400...\n"
     ]
    },
    {
     "name": "stderr",
     "output_type": "stream",
     "text": [
      "Processing Hate Speech:  84%|████████▍ | 2501/2971 [5:27:25<1:09:24,  8.86s/it]"
     ]
    },
    {
     "name": "stdout",
     "output_type": "stream",
     "text": [
      "Progress saved at row 2500...\n"
     ]
    },
    {
     "name": "stderr",
     "output_type": "stream",
     "text": [
      "Processing Hate Speech:  88%|████████▊ | 2601/2971 [5:41:09<43:49,  7.11s/it]  "
     ]
    },
    {
     "name": "stdout",
     "output_type": "stream",
     "text": [
      "Progress saved at row 2600...\n"
     ]
    },
    {
     "name": "stderr",
     "output_type": "stream",
     "text": [
      "Processing Hate Speech:  91%|█████████ | 2701/2971 [5:53:54<34:46,  7.73s/it]  "
     ]
    },
    {
     "name": "stdout",
     "output_type": "stream",
     "text": [
      "Progress saved at row 2700...\n"
     ]
    },
    {
     "name": "stderr",
     "output_type": "stream",
     "text": [
      "Processing Hate Speech:  94%|█████████▍| 2801/2971 [6:07:17<18:03,  6.38s/it]"
     ]
    },
    {
     "name": "stdout",
     "output_type": "stream",
     "text": [
      "Progress saved at row 2800...\n"
     ]
    },
    {
     "name": "stderr",
     "output_type": "stream",
     "text": [
      "Processing Hate Speech:  98%|█████████▊| 2901/2971 [6:20:21<07:05,  6.08s/it]"
     ]
    },
    {
     "name": "stdout",
     "output_type": "stream",
     "text": [
      "Progress saved at row 2900...\n"
     ]
    },
    {
     "name": "stderr",
     "output_type": "stream",
     "text": [
      "Processing Hate Speech: 100%|██████████| 2971/2971 [6:29:20<00:00,  7.86s/it]"
     ]
    },
    {
     "name": "stdout",
     "output_type": "stream",
     "text": [
      "\n",
      "Final results saved to llama_fs.csv\n"
     ]
    },
    {
     "name": "stderr",
     "output_type": "stream",
     "text": [
      "\n"
     ]
    }
   ],
   "source": [
    "from together import Together\n",
    "from tqdm import tqdm\n",
    "import pandas as pd\n",
    "\n",
    "client = Together(api_key=\"8359ee49c11106be833a5fc2d7ffc654b7c83aaa8f080da0234a210cae0d57eb\")\n",
    "\n",
    "FEW_SHOT_EXAMPLES = [\n",
    "    {\n",
    "        \"hate_speech\": \"Maybe the UN could talk to those asian and african nations responsible for 90+ of the pollution in the oceans instead of insisting on this bullshit about climate change.\",\n",
    "        \"intent\": \"Positive\",\n",
    "        \"counterspeech\": \"You're right, ocean pollution is one of the main environmental problems we face, however, climate change is a global problem, and everyone should help to combat it, no matter where in the world you are from!\"\n",
    "    },\n",
    "    {\n",
    "        \"hate_speech\": \"Maybe the UN could talk to those asian and african nations responsible for 90+ of the pollution in the oceans instead of insisting on this bullshit about climate change.\",\n",
    "        \"intent\": \"Denouncing\",\n",
    "        \"counterspeech\": \"The world would be a better place if people were more tolerant to each other.\"\n",
    "    },\n",
    "    {\n",
    "        \"hate_speech\": \"Maybe the UN could talk to those asian and african nations responsible for 90+ of the pollution in the oceans instead of insisting on this bullshit about climate change.\",\n",
    "        \"intent\": \"Questioning\",\n",
    "        \"counterspeech\": \"Doesn't everyone on the planet have a responsibility towards the climate?\"\n",
    "    },\n",
    "    {\n",
    "        \"hate_speech\": \"Maybe the UN could talk to those asian and african nations responsible for 90+ of the pollution in the oceans instead of insisting on this bullshit about climate change.\",\n",
    "        \"intent\": \"Informative\",\n",
    "        \"counterspeech\": \"The us is the second most polluting country in the world - as the worldâ€™s biggest industrial and commercial power. we are all to blame here and need to work hand in hand to create sustainable change, as opposed to pointing the finger to others.\"\n",
    "    },\n",
    "    {\n",
    "        \"hate_speech\": \"Jews cannot be patriots, since their allegiance will always be to the state of Israel.\",\n",
    "        \"intent\": \"Informative\",\n",
    "        \"counterspeech\": \"You can have parents and grandparents born elsewhere, and still be a patriot for the country you were born in.\"\n",
    "    },\n",
    "    {\n",
    "        \"hate_speech\": \"Jews cannot be patriots, since their allegiance will always be to the state of Israel.\",\n",
    "        \"intent\": \"Questioning\",\n",
    "        \"counterspeech\": \"If you personally had some distant spanish or jewish heritage and you identified more as american surely that doesn't mean that you can't be an american patriot?\"\n",
    "    },\n",
    "    {\n",
    "        \"hate_speech\": \"Jews cannot be patriots, since their allegiance will always be to the state of Israel.\",\n",
    "        \"intent\": \"Denouncing\",\n",
    "        \"counterspeech\": \"My best friend is jewish, she volunteers to help woman, disadvantages children, and her whole family work to make the uk a better place.\"\n",
    "    },\n",
    "    {\n",
    "        \"hate_speech\": \"Jews cannot be patriots, since their allegiance will always be to the state of Israel.\",\n",
    "        \"intent\": \"Positive\",\n",
    "        \"counterspeech\": \"It is possible to love one's country and one's religious home. the two are not exclusive.\"\n",
    "    },\n",
    "    {\n",
    "        \"hate_speech\": \"The British people should use those houses, not immigrants.\",\n",
    "        \"intent\": \"Positive\",\n",
    "        \"counterspeech\": \"This country is big enough for all of us. we should look forward to welcoming people into our countries if they want to. integration is not hard. give these people a break.\"\n",
    "    },\n",
    "    {\n",
    "        \"hate_speech\": \"The British people should use those houses, not immigrants.\",\n",
    "        \"intent\": \"Questioning\",\n",
    "        \"counterspeech\": \"Who are you to command what houses should be occupied by whom? who gave you this authority?\"\n",
    "    },\n",
    "    {\n",
    "        \"hate_speech\": \"The British people should use those houses, not immigrants.\",\n",
    "        \"intent\": \"Informative\",\n",
    "        \"counterspeech\": \"There are enough empty homes in the uk for both migrants and veterans. migrants deserve to be treated humanely, try having some empathy. imagine if you were forced by circumstance to emigrate and have to live in poor conditions.\"\n",
    "    },\n",
    "    {\n",
    "        \"hate_speech\": \"The British people should use those houses, not immigrants.\",\n",
    "        \"intent\": \"Denouncing\",\n",
    "        \"counterspeech\": \"It is because of people like you that migrants do not feel safe in a place that they should call home. shame on you.\"\n",
    "    }\n",
    "    \n",
    "    \n",
    "]\n",
    "\n",
    "def generate_counterspeech_togetherai(hate_speech, intent):\n",
    "    \"\"\"Generates counterspeech using LLaMA 3.3 70B via TogetherAI API with few-shot examples.\"\"\"\n",
    "    examples_text = \"\\n\\n\".join([\n",
    "        f\"Hate Speech: {ex['hate_speech']}\\nIntent: {ex['intent']}\\nCounterspeech: {ex['counterspeech']}\"\n",
    "        for ex in FEW_SHOT_EXAMPLES if ex['intent'] == intent\n",
    "    ])\n",
    "    \n",
    "    prompt = f\"\"\"### Counterspeech Generation Task\n",
    "\n",
    "You are an expert in counterspeech. Generate a **{intent}** counterspeech response to the following hate speech:\n",
    "\n",
    "### Few-Shot Examples\n",
    "{examples_text}\n",
    "\n",
    "### Hate Speech Instance\n",
    "{hate_speech}\n",
    "\n",
    "---\n",
    "\n",
    "### Expected Response\n",
    "Your response should be a **{intent}** style counterspeech that directly addresses the hate speech instance.\n",
    "\"\"\"\n",
    "    \n",
    "    try:\n",
    "        response = client.chat.completions.create(\n",
    "            model=\"meta-llama/Llama-3.3-70B-Instruct-Turbo-Free\",\n",
    "            messages=[{\"role\": \"user\", \"content\": prompt}],\n",
    "            max_tokens=250,\n",
    "            temperature=0.7,\n",
    "            top_p=0.9,\n",
    "            top_k=50,\n",
    "            repetition_penalty=1,\n",
    "            stop=[\"\\n\\n\", \"<|eot_id|>\", \"<|eom_id|>\"],\n",
    "            stream=False\n",
    "        )\n",
    "        \n",
    "        return response.choices[0].message.content if response.choices else \"No response generated.\"\n",
    "    except Exception as e:\n",
    "        print(\"Error with TogetherAI API:\", e)\n",
    "        return \"Error\"\n",
    "\n",
    "# Assuming df is already loaded with hate speech data\n",
    "df[\"Llama3_counterspeech\"] = \"\"\n",
    "\n",
    "print(\"\\nGenerating counterspeech using TogetherAI LLaMA 3.3 70B with few-shot examples...\")\n",
    "\n",
    "for i in tqdm(range(len(df)), desc=\"Processing Hate Speech\"):\n",
    "    counterspeech = generate_counterspeech_togetherai(\n",
    "        df.at[i, \"hatespeech\"], df.at[i, \"csType\"]\n",
    "    )\n",
    "    df.at[i, \"Llama3_counterspeech\"] = counterspeech\n",
    "    \n",
    "    # Save progress every 100 rows to avoid data loss in case of an interruption\n",
    "    if i % 100 == 0:\n",
    "        df.to_csv(\"llama_fs.csv\", index=False)\n",
    "        print(f\"Progress saved at row {i}...\")\n",
    "\n",
    "# Final save after processing all rows\n",
    "df.to_csv(\"llama_fs_csv.csv\", index=False)\n",
    "print(\"\\nFinal results saved to llama_fs.csv\")\n"
   ]
  }
 ],
 "metadata": {
  "kaggle": {
   "accelerator": "gpu",
   "dataSources": [
    {
     "datasetId": 6923067,
     "sourceId": 11105078,
     "sourceType": "datasetVersion"
    }
   ],
   "dockerImageVersionId": 30918,
   "isGpuEnabled": true,
   "isInternetEnabled": true,
   "language": "python",
   "sourceType": "notebook"
  },
  "kernelspec": {
   "display_name": "Python 3",
   "language": "python",
   "name": "python3"
  },
  "language_info": {
   "codemirror_mode": {
    "name": "ipython",
    "version": 3
   },
   "file_extension": ".py",
   "mimetype": "text/x-python",
   "name": "python",
   "nbconvert_exporter": "python",
   "pygments_lexer": "ipython3",
   "version": "3.10.12"
  }
 },
 "nbformat": 4,
 "nbformat_minor": 4
}
